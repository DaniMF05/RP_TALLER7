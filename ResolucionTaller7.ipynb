{
 "cells": [
  {
   "cell_type": "markdown",
   "id": "aad7be04",
   "metadata": {},
   "source": [
    "# Taller 6 - Metodos Numéricos\n",
    "\n",
    "- **Nombre:** Joshua Daniel Menendez Farias"
   ]
  },
  {
   "cell_type": "code",
   "execution_count": 52,
   "id": "ffda81aa",
   "metadata": {},
   "outputs": [
    {
     "name": "stdout",
     "output_type": "stream",
     "text": [
      "The autoreload extension is already loaded. To reload it, use:\n",
      "  %reload_ext autoreload\n"
     ]
    }
   ],
   "source": [
    "%load_ext autoreload"
   ]
  },
  {
   "cell_type": "code",
   "execution_count": 53,
   "id": "1571ae5b",
   "metadata": {},
   "outputs": [
    {
     "name": "stdout",
     "output_type": "stream",
     "text": [
      "[07-15 17:55:35][INFO] Animation.save using <class 'matplotlib.animation.PillowWriter'>\n"
     ]
    },
    {
     "name": "stderr",
     "output_type": "stream",
     "text": [
      "c:\\DANIMF\\WORKCENTER\\CUARTO_SEMESTRE\\METODOS_NUMERICOS\\RP_TALLER7\\src\\iterative_methods.py:128: UserWarning: Glyph 9989 (\\N{WHITE HEAVY CHECK MARK}) missing from font(s) DejaVu Sans.\n"
     ]
    },
    {
     "name": "stdout",
     "output_type": "stream",
     "text": [
      "🎞️ GIF guardado como 'jacobi_trayectoria.gif'\n",
      "[07-15 17:55:37][INFO] Animation.save using <class 'matplotlib.animation.PillowWriter'>\n"
     ]
    },
    {
     "name": "stderr",
     "output_type": "stream",
     "text": [
      "c:\\DANIMF\\WORKCENTER\\CUARTO_SEMESTRE\\METODOS_NUMERICOS\\RP_TALLER7\\src\\iterative_methods.py:128: UserWarning: Glyph 9989 (\\N{WHITE HEAVY CHECK MARK}) missing from font(s) DejaVu Sans.\n"
     ]
    },
    {
     "name": "stdout",
     "output_type": "stream",
     "text": [
      "🎞️ GIF guardado como 'seidel_trayectoria.gif'\n"
     ]
    }
   ],
   "source": [
    "'''\n",
    "Es importante aclarar que para la resolucion de este taller lo que se hizo fue modificar el codigo\n",
    "de ambas funciones para que no imprima los cambios en cada iteracion, gracias a esto se pudo probar\n",
    "ambas funciones con ecuaciones de hasta 500 variables y 500 ecuaciones sin que se colgara el kernel \n",
    "de jupyter.\n",
    "'''\n",
    "\n",
    "%autoreload 2\n",
    "import numpy as np\n",
    "\n",
    "from src import animar_trayectoria, gauss_jacobi, gauss_seidel\n",
    "\n",
    "# A = np.array([[1.0, 1.0], [-2.0, 5.0]])\n",
    "# b = np.array([[7.0], [0.0]])\n",
    "# x0 = np.array([[8.0], [3.0]])\n",
    "A = np.array([[1.0, 1.0], [-2.0, 5.0]])\n",
    "b = np.array([[7.0], [0.0]])\n",
    "x0 = np.array([[10.0], [4.0]])\n",
    "tol = 1e-2\n",
    "max_iter = 35\n",
    "\n",
    "# Jacobi\n",
    "x_final, tray, convergio = gauss_jacobi(A=A, b=b, x0=x0, tol=tol, max_iter=max_iter)\n",
    "animar_trayectoria(tray, metodo_nombre=\"Gauss-Jacobi\", filename=\"jacobi_trayectoria.gif\", convergio=convergio, solucion=x_final, A =A, b=b)\n",
    "\n",
    "# Seidel\n",
    "x_final, tray, convergio = gauss_seidel(A=A, b=b, x0=x0, tol=tol, max_iter=max_iter)\n",
    "animar_trayectoria(tray, metodo_nombre=\"Gauss-Seidel\", filename=\"seidel_trayectoria.gif\", convergio=convergio, solucion=x_final, A =A, b=b)"
   ]
  },
  {
   "cell_type": "code",
   "execution_count": 54,
   "id": "b5b2a03d",
   "metadata": {},
   "outputs": [
    {
     "name": "stdout",
     "output_type": "stream",
     "text": [
      "[07-15 17:55:38][INFO] Animation.save using <class 'matplotlib.animation.PillowWriter'>\n"
     ]
    },
    {
     "name": "stderr",
     "output_type": "stream",
     "text": [
      "c:\\DANIMF\\WORKCENTER\\CUARTO_SEMESTRE\\METODOS_NUMERICOS\\RP_TALLER7\\src\\iterative_methods.py:224: UserWarning: Glyph 9989 (\\N{WHITE HEAVY CHECK MARK}) missing from font(s) DejaVu Sans.\n"
     ]
    },
    {
     "name": "stdout",
     "output_type": "stream",
     "text": [
      "🎞️ GIF con varias trayectorias guardado como 'tres_aproximaciones.gif'\n"
     ]
    }
   ],
   "source": [
    "from src import gauss_jacobi, animar_varias_trayectorias\n",
    "\n",
    "A = np.array([[1.0, 1.0], [-2.0, 5.0]])\n",
    "b = np.array([[7.0], [0.0]])\n",
    "tol = 1e-2\n",
    "max_iter = 55\n",
    "\n",
    "x0s = [\n",
    "    (np.array([[10.0], [4.0]]), \"Aprox. 1\"),\n",
    "    (np.array([[8.0], [3.0]]), \"Aprox. 2\"),\n",
    "    (np.array([[10.0], [15.0]]), \"Aprox. 3\")\n",
    "]\n",
    "\n",
    "trays_info = []\n",
    "\n",
    "for x0, nombre in x0s:\n",
    "    x_final, tray, convergio = gauss_jacobi(A=A, b=b, x0=x0, tol=tol, max_iter=max_iter)\n",
    "    trays_info.append((tray, convergio, x_final, nombre))\n",
    "\n",
    "animar_varias_trayectorias(\n",
    "    trays_info,\n",
    "    metodo_nombre=\"Gauss-Jacobi\",\n",
    "    filename=\"tres_aproximaciones.gif\",\n",
    "    A=A,\n",
    "    b=b\n",
    ")\n"
   ]
  }
 ],
 "metadata": {
  "kernelspec": {
   "display_name": "base",
   "language": "python",
   "name": "python3"
  },
  "language_info": {
   "codemirror_mode": {
    "name": "ipython",
    "version": 3
   },
   "file_extension": ".py",
   "mimetype": "text/x-python",
   "name": "python",
   "nbconvert_exporter": "python",
   "pygments_lexer": "ipython3",
   "version": "3.12.7"
  }
 },
 "nbformat": 4,
 "nbformat_minor": 5
}
