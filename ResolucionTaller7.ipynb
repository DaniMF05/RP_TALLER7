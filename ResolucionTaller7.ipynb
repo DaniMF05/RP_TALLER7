{
 "cells": [
  {
   "cell_type": "markdown",
   "id": "aad7be04",
   "metadata": {},
   "source": [
    "# Taller 6 - Metodos Numéricos\n",
    "\n",
    "- **Nombre:** Joshua Daniel Menendez Farias"
   ]
  },
  {
   "cell_type": "code",
   "execution_count": 67,
   "id": "ffda81aa",
   "metadata": {},
   "outputs": [
    {
     "name": "stdout",
     "output_type": "stream",
     "text": [
      "The autoreload extension is already loaded. To reload it, use:\n",
      "  %reload_ext autoreload\n"
     ]
    }
   ],
   "source": [
    "%load_ext autoreload"
   ]
  },
  {
   "cell_type": "code",
   "execution_count": 68,
   "id": "b5b2a03d",
   "metadata": {},
   "outputs": [
    {
     "name": "stdout",
     "output_type": "stream",
     "text": [
      "[07-15 18:31:06][INFO] Animation.save using <class 'matplotlib.animation.PillowWriter'>\n"
     ]
    },
    {
     "name": "stderr",
     "output_type": "stream",
     "text": [
      "c:\\DANIMF\\WORKCENTER\\CUARTO_SEMESTRE\\METODOS_NUMERICOS\\RP_TALLER7\\src\\iterative_methods.py:224: UserWarning: Glyph 9989 (\\N{WHITE HEAVY CHECK MARK}) missing from font(s) DejaVu Sans.\n"
     ]
    },
    {
     "name": "stdout",
     "output_type": "stream",
     "text": [
      "🎞️ GIF con varias trayectorias guardado como 'tres_aproximaciones_jacobi.gif'\n",
      "[07-15 18:31:10][INFO] Animation.save using <class 'matplotlib.animation.PillowWriter'>\n"
     ]
    },
    {
     "name": "stderr",
     "output_type": "stream",
     "text": [
      "c:\\DANIMF\\WORKCENTER\\CUARTO_SEMESTRE\\METODOS_NUMERICOS\\RP_TALLER7\\src\\iterative_methods.py:224: UserWarning: Glyph 9989 (\\N{WHITE HEAVY CHECK MARK}) missing from font(s) DejaVu Sans.\n"
     ]
    },
    {
     "name": "stdout",
     "output_type": "stream",
     "text": [
      "🎞️ GIF con varias trayectorias guardado como 'tres_aproximaciones_seidel.gif'\n"
     ]
    }
   ],
   "source": [
    "from src import gauss_jacobi, gauss_seidel,animar_varias_trayectorias\n",
    "import numpy as np\n",
    "\n",
    "A = np.array([[1.0, 1.0], [-2.0, 5.0]])\n",
    "b = np.array([[7.0], [0.0]])\n",
    "tol = 1e-3\n",
    "max_iter = 100\n",
    "\n",
    "x0s = [\n",
    "    (np.array([[10.0], [4.0]]), \"Aprox. 1\"),\n",
    "    (np.array([[8.0], [3.0]]), \"Aprox. 2\"),\n",
    "    (np.array([[11.0], [6.0]]), \"Aprox. 3\")\n",
    "]\n",
    "\n",
    "trays_info = []\n",
    "\n",
    "for x0, nombre in x0s:\n",
    "    x_final, tray, convergio = gauss_jacobi(A=A, b=b, x0=x0, tol=tol, max_iter=max_iter)\n",
    "    trays_info.append((tray, convergio, x_final, nombre))\n",
    "\n",
    "animar_varias_trayectorias(\n",
    "    trays_info,\n",
    "    metodo_nombre=\"Gauss-Jacobi\",\n",
    "    filename=\"tres_aproximaciones_jacobi.gif\",\n",
    "    A=A,\n",
    "    b=b\n",
    ")\n",
    "\n",
    "trays_info = []\n",
    "\n",
    "for x0, nombre in x0s:\n",
    "    x_final, tray, convergio = gauss_seidel(A=A, b=b, x0=x0, tol=tol, max_iter=max_iter)\n",
    "    trays_info.append((tray, convergio, x_final, nombre))\n",
    "\n",
    "animar_varias_trayectorias(\n",
    "    trays_info,\n",
    "    metodo_nombre=\"Gauss-Seidel\",\n",
    "    filename=\"tres_aproximaciones_seidel.gif\",\n",
    "    A=A,\n",
    "    b=b\n",
    ")\n"
   ]
  }
 ],
 "metadata": {
  "kernelspec": {
   "display_name": "base",
   "language": "python",
   "name": "python3"
  },
  "language_info": {
   "codemirror_mode": {
    "name": "ipython",
    "version": 3
   },
   "file_extension": ".py",
   "mimetype": "text/x-python",
   "name": "python",
   "nbconvert_exporter": "python",
   "pygments_lexer": "ipython3",
   "version": "3.12.7"
  }
 },
 "nbformat": 4,
 "nbformat_minor": 5
}
